{
 "cells": [
  {
   "cell_type": "code",
   "execution_count": 30,
   "metadata": {
    "executionInfo": {
     "elapsed": 322,
     "status": "ok",
     "timestamp": 1735816541456,
     "user": {
      "displayName": "Vinícius Alexandre",
      "userId": "02678239040136017208"
     },
     "user_tz": 180
    },
    "id": "eW2ZyPe6nmkf"
   },
   "outputs": [],
   "source": [
    "import pandas as pd\n",
    "import numpy as np\n",
    "import json\n",
    "from sklearn.feature_extraction.text import TfidfVectorizer\n",
    "from scipy import sparse\n",
    "from zipfile import ZipFile"
   ]
  },
  {
   "cell_type": "code",
   "execution_count": 31,
   "metadata": {
    "colab": {
     "base_uri": "https://localhost:8080/",
     "height": 424
    },
    "executionInfo": {
     "elapsed": 1789,
     "status": "ok",
     "timestamp": 1735814976032,
     "user": {
      "displayName": "Vinícius Alexandre",
      "userId": "02678239040136017208"
     },
     "user_tz": 180
    },
    "id": "izWL1ka-oFV_",
    "outputId": "e709661b-d16b-45af-df58-993310916563"
   },
   "outputs": [
    {
     "data": {
      "text/html": [
       "<div>\n",
       "<style scoped>\n",
       "    .dataframe tbody tr th:only-of-type {\n",
       "        vertical-align: middle;\n",
       "    }\n",
       "\n",
       "    .dataframe tbody tr th {\n",
       "        vertical-align: top;\n",
       "    }\n",
       "\n",
       "    .dataframe thead th {\n",
       "        text-align: right;\n",
       "    }\n",
       "</style>\n",
       "<table border=\"1\" class=\"dataframe\">\n",
       "  <thead>\n",
       "    <tr style=\"text-align: right;\">\n",
       "      <th></th>\n",
       "      <th>UserId</th>\n",
       "      <th>ItemId</th>\n",
       "    </tr>\n",
       "  </thead>\n",
       "  <tbody>\n",
       "    <tr>\n",
       "      <th>0</th>\n",
       "      <td>0006246bee</td>\n",
       "      <td>01d2404d4c</td>\n",
       "    </tr>\n",
       "    <tr>\n",
       "      <th>1</th>\n",
       "      <td>0006246bee</td>\n",
       "      <td>03d43fdf92</td>\n",
       "    </tr>\n",
       "    <tr>\n",
       "      <th>2</th>\n",
       "      <td>0006246bee</td>\n",
       "      <td>0808a9666b</td>\n",
       "    </tr>\n",
       "    <tr>\n",
       "      <th>3</th>\n",
       "      <td>0006246bee</td>\n",
       "      <td>0a5d7dd6f6</td>\n",
       "    </tr>\n",
       "    <tr>\n",
       "      <th>4</th>\n",
       "      <td>0006246bee</td>\n",
       "      <td>0bab4a8104</td>\n",
       "    </tr>\n",
       "    <tr>\n",
       "      <th>...</th>\n",
       "      <td>...</td>\n",
       "      <td>...</td>\n",
       "    </tr>\n",
       "    <tr>\n",
       "      <th>616195</th>\n",
       "      <td>fffffe98d0</td>\n",
       "      <td>f6e4113a95</td>\n",
       "    </tr>\n",
       "    <tr>\n",
       "      <th>616196</th>\n",
       "      <td>fffffe98d0</td>\n",
       "      <td>f8cc22edf7</td>\n",
       "    </tr>\n",
       "    <tr>\n",
       "      <th>616197</th>\n",
       "      <td>fffffe98d0</td>\n",
       "      <td>fa71aa74e9</td>\n",
       "    </tr>\n",
       "    <tr>\n",
       "      <th>616198</th>\n",
       "      <td>fffffe98d0</td>\n",
       "      <td>fca8263961</td>\n",
       "    </tr>\n",
       "    <tr>\n",
       "      <th>616199</th>\n",
       "      <td>fffffe98d0</td>\n",
       "      <td>ff0e62e1d2</td>\n",
       "    </tr>\n",
       "  </tbody>\n",
       "</table>\n",
       "<p>616200 rows × 2 columns</p>\n",
       "</div>"
      ],
      "text/plain": [
       "            UserId      ItemId\n",
       "0       0006246bee  01d2404d4c\n",
       "1       0006246bee  03d43fdf92\n",
       "2       0006246bee  0808a9666b\n",
       "3       0006246bee  0a5d7dd6f6\n",
       "4       0006246bee  0bab4a8104\n",
       "...            ...         ...\n",
       "616195  fffffe98d0  f6e4113a95\n",
       "616196  fffffe98d0  f8cc22edf7\n",
       "616197  fffffe98d0  fa71aa74e9\n",
       "616198  fffffe98d0  fca8263961\n",
       "616199  fffffe98d0  ff0e62e1d2\n",
       "\n",
       "[616200 rows x 2 columns]"
      ]
     },
     "execution_count": 31,
     "metadata": {},
     "output_type": "execute_result"
    }
   ],
   "source": [
    "with ZipFile(\"targets.zip\", \"r\") as zip_targets:\n",
    "    zip_targets.extract(\"targets.csv\")\n",
    "\n",
    "targets_df = pd.read_csv(\"targets.csv\")\n",
    "targets_df"
   ]
  },
  {
   "cell_type": "code",
   "execution_count": 32,
   "metadata": {
    "colab": {
     "base_uri": "https://localhost:8080/",
     "height": 424
    },
    "executionInfo": {
     "elapsed": 4277,
     "status": "ok",
     "timestamp": 1735814983027,
     "user": {
      "displayName": "Vinícius Alexandre",
      "userId": "02678239040136017208"
     },
     "user_tz": 180
    },
    "id": "fALxHI3XN_EA",
    "outputId": "a9b9bb67-e9ea-4930-85fd-cb5c24b2f1c6"
   },
   "outputs": [
    {
     "data": {
      "text/html": [
       "<div>\n",
       "<style scoped>\n",
       "    .dataframe tbody tr th:only-of-type {\n",
       "        vertical-align: middle;\n",
       "    }\n",
       "\n",
       "    .dataframe tbody tr th {\n",
       "        vertical-align: top;\n",
       "    }\n",
       "\n",
       "    .dataframe thead th {\n",
       "        text-align: right;\n",
       "    }\n",
       "</style>\n",
       "<table border=\"1\" class=\"dataframe\">\n",
       "  <thead>\n",
       "    <tr style=\"text-align: right;\">\n",
       "      <th></th>\n",
       "      <th>UserId</th>\n",
       "      <th>ItemId</th>\n",
       "      <th>Timestamp</th>\n",
       "      <th>Rating</th>\n",
       "    </tr>\n",
       "  </thead>\n",
       "  <tbody>\n",
       "    <tr>\n",
       "      <th>0</th>\n",
       "      <td>c4ca4238a0</td>\n",
       "      <td>91766eac45</td>\n",
       "      <td>1381010450</td>\n",
       "      <td>8</td>\n",
       "    </tr>\n",
       "    <tr>\n",
       "      <th>1</th>\n",
       "      <td>c81e728d9d</td>\n",
       "      <td>5c739554f7</td>\n",
       "      <td>1376756798</td>\n",
       "      <td>9</td>\n",
       "    </tr>\n",
       "    <tr>\n",
       "      <th>2</th>\n",
       "      <td>c81e728d9d</td>\n",
       "      <td>48f6d7ce7c</td>\n",
       "      <td>1376746107</td>\n",
       "      <td>8</td>\n",
       "    </tr>\n",
       "    <tr>\n",
       "      <th>3</th>\n",
       "      <td>c81e728d9d</td>\n",
       "      <td>e9318d627a</td>\n",
       "      <td>1371310689</td>\n",
       "      <td>1</td>\n",
       "    </tr>\n",
       "    <tr>\n",
       "      <th>4</th>\n",
       "      <td>a87ff679a2</td>\n",
       "      <td>17e6357973</td>\n",
       "      <td>1391210879</td>\n",
       "      <td>8</td>\n",
       "    </tr>\n",
       "    <tr>\n",
       "      <th>...</th>\n",
       "      <td>...</td>\n",
       "      <td>...</td>\n",
       "      <td>...</td>\n",
       "      <td>...</td>\n",
       "    </tr>\n",
       "    <tr>\n",
       "      <th>659715</th>\n",
       "      <td>3d7e93cbd0</td>\n",
       "      <td>450f41b5d3</td>\n",
       "      <td>1487376619</td>\n",
       "      <td>7</td>\n",
       "    </tr>\n",
       "    <tr>\n",
       "      <th>659716</th>\n",
       "      <td>3d7e93cbd0</td>\n",
       "      <td>80d1dae630</td>\n",
       "      <td>1497048389</td>\n",
       "      <td>7</td>\n",
       "    </tr>\n",
       "    <tr>\n",
       "      <th>659717</th>\n",
       "      <td>7804b284a3</td>\n",
       "      <td>0759d2567b</td>\n",
       "      <td>1419741829</td>\n",
       "      <td>4</td>\n",
       "    </tr>\n",
       "    <tr>\n",
       "      <th>659718</th>\n",
       "      <td>6648728db7</td>\n",
       "      <td>28fb7af42b</td>\n",
       "      <td>1370221047</td>\n",
       "      <td>1</td>\n",
       "    </tr>\n",
       "    <tr>\n",
       "      <th>659719</th>\n",
       "      <td>e7293de34b</td>\n",
       "      <td>f72dcb10e8</td>\n",
       "      <td>1362836255</td>\n",
       "      <td>6</td>\n",
       "    </tr>\n",
       "  </tbody>\n",
       "</table>\n",
       "<p>659720 rows × 4 columns</p>\n",
       "</div>"
      ],
      "text/plain": [
       "            UserId      ItemId   Timestamp  Rating\n",
       "0       c4ca4238a0  91766eac45  1381010450       8\n",
       "1       c81e728d9d  5c739554f7  1376756798       9\n",
       "2       c81e728d9d  48f6d7ce7c  1376746107       8\n",
       "3       c81e728d9d  e9318d627a  1371310689       1\n",
       "4       a87ff679a2  17e6357973  1391210879       8\n",
       "...            ...         ...         ...     ...\n",
       "659715  3d7e93cbd0  450f41b5d3  1487376619       7\n",
       "659716  3d7e93cbd0  80d1dae630  1497048389       7\n",
       "659717  7804b284a3  0759d2567b  1419741829       4\n",
       "659718  6648728db7  28fb7af42b  1370221047       1\n",
       "659719  e7293de34b  f72dcb10e8  1362836255       6\n",
       "\n",
       "[659720 rows x 4 columns]"
      ]
     },
     "execution_count": 32,
     "metadata": {},
     "output_type": "execute_result"
    }
   ],
   "source": [
    "with ZipFile(\"ratings.zip\", \"r\") as zip_ratings:\n",
    "    zip_ratings.extract(\"ratings.jsonl\")\n",
    "\n",
    "with open(\"ratings.jsonl\", \"r\") as f:\n",
    "    ratings = [json.loads(line) for line in f]\n",
    "\n",
    "ratings_df = pd.DataFrame(ratings)\n",
    "ratings_df"
   ]
  },
  {
   "cell_type": "code",
   "execution_count": 33,
   "metadata": {
    "colab": {
     "base_uri": "https://localhost:8080/"
    },
    "executionInfo": {
     "elapsed": 507,
     "status": "ok",
     "timestamp": 1735826191970,
     "user": {
      "displayName": "Vinícius Alexandre",
      "userId": "02678239040136017208"
     },
     "user_tz": 180
    },
    "id": "y_O46hAeTYT5",
    "outputId": "6e49dbc8-bf2f-43d6-94d0-b374251f64ab"
   },
   "outputs": [
    {
     "name": "stdout",
     "output_type": "stream",
     "text": [
      "Number of users: 51671\n",
      "Number of items: 29674\n"
     ]
    }
   ],
   "source": [
    "n_users = len(ratings_df[\"UserId\"].unique())\n",
    "n_items = len(ratings_df[\"ItemId\"].unique())\n",
    "print(f\"Number of users: {n_users}\")\n",
    "print(f\"Number of items: {n_items}\")"
   ]
  },
  {
   "cell_type": "code",
   "execution_count": 34,
   "metadata": {
    "executionInfo": {
     "elapsed": 268,
     "status": "ok",
     "timestamp": 1735815031815,
     "user": {
      "displayName": "Vinícius Alexandre",
      "userId": "02678239040136017208"
     },
     "user_tz": 180
    },
    "id": "iKkZRMRRooPf"
   },
   "outputs": [],
   "source": [
    "def make_dataframe(contents):\n",
    "    \"\"\"\n",
    "    Create a DataFrame from a list of dictionaries.\n",
    "\n",
    "    Args:\n",
    "        contents (list): A list of dictionaries.\n",
    "\n",
    "    Returns:\n",
    "        pd.DataFrame: A DataFrame containing the data from the dictionaries.\n",
    "    \"\"\"\n",
    "    if contents is None:\n",
    "        return None\n",
    "    else:\n",
    "        contents_df = pd.DataFrame(contents)\n",
    "\n",
    "        # Columns to drop\n",
    "        drop = [\n",
    "            \"Production\",\n",
    "            \"Website\",\n",
    "            \"Response\",\n",
    "            \"totalSeasons\",\n",
    "            \"Season\",\n",
    "            \"Episode\",\n",
    "            \"seriesID\",\n",
    "            \"Poster\",\n",
    "            \"Released\",\n",
    "            \"Ratings\",\n",
    "            \"Awards\",\n",
    "            \"DVD\",\n",
    "            \"BoxOffice\",\n",
    "        ]\n",
    "        contents_df.drop(columns=drop, inplace=True)\n",
    "\n",
    "        # Replacing incomplete values to NaN\n",
    "        contents_df.replace(\"N/A\", np.nan, inplace=True)\n",
    "        contents_df.replace(\"None\", np.nan, inplace=True)\n",
    "\n",
    "        # Removing characters to convert to numeric values\n",
    "        contents_df.rename(columns={\"Runtime\": \"Runtime (min)\"}, inplace=True)\n",
    "        replace = {\n",
    "            \"Year\": \"-\",\n",
    "            \"imdbVotes\": \",\",\n",
    "            \"imdbRating\": \"\",\n",
    "            \"Runtime (min)\": \" min\",\n",
    "        }\n",
    "        for key, value in replace.items():\n",
    "            contents_df[key] = contents_df[key].str.replace(value, \"\", regex=False)\n",
    "\n",
    "        # Converting to numeric\n",
    "        numeric_columns = [\n",
    "            \"Year\",\n",
    "            \"imdbVotes\",\n",
    "            \"imdbRating\",\n",
    "            \"Metascore\",\n",
    "            \"Runtime (min)\",\n",
    "        ]\n",
    "        for col in numeric_columns:\n",
    "            contents_df[col] = pd.to_numeric(contents_df[col], errors=\"coerce\")\n",
    "\n",
    "        # Filling NaN values\n",
    "        fill_values = {\n",
    "            \"Rated\": \"Not_Rated\",\n",
    "            \"Metascore\": 0,\n",
    "            \"Runtime (min)\": 0,\n",
    "            \"imdbRating\": 0,\n",
    "            \"imdbVotes\": 0,\n",
    "            \"Year\": 0,\n",
    "        }\n",
    "        contents_df.fillna(fill_values, inplace=True)\n",
    "\n",
    "        contents_df[\"Rated\"] = contents_df[\"Rated\"].str.upper()\n",
    "        contents_df[\"Rated\"] = contents_df[\"Rated\"].str.replace(\n",
    "            \"NOT RATED\", \"NOT_RATED\"\n",
    "        )\n",
    "\n",
    "        int_columns = [\n",
    "            \"Year\",\n",
    "            \"imdbVotes\",\n",
    "            \"Metascore\",\n",
    "            \"Runtime (min)\",\n",
    "        ]\n",
    "        for col in int_columns:\n",
    "            contents_df[col] = contents_df[col].astype(int)\n",
    "\n",
    "        # Removing non-alphanumrics characters\n",
    "        chars = \",;:-()[]{}'\\\"\"\n",
    "        for col in contents_df.columns:\n",
    "            if contents_df[col].dtype == \"object\":\n",
    "                for c in chars:\n",
    "                    contents_df[col] = contents_df[col].astype(str).str.replace(c, \"\")\n",
    "\n",
    "        # Converting country names to a single name\n",
    "        countries = {\n",
    "            \"United States\": \"USA\",\n",
    "            \"United Kingdom\": \"UK\",\n",
    "            \"United Arab Emirates\": \"UAE\",\n",
    "            \"Republic of Ireland\": \"Ireland\",\n",
    "            \"South Korea\": \"Korea\",\n",
    "            \"People's Republic of China\": \"China\",\n",
    "        }\n",
    "        for key, value in countries.items():\n",
    "            contents_df[\"Country\"] = contents_df[\"Country\"].str.replace(key, value)\n",
    "\n",
    "    return contents_df"
   ]
  },
  {
   "cell_type": "code",
   "execution_count": 35,
   "metadata": {
    "colab": {
     "base_uri": "https://localhost:8080/",
     "height": 649
    },
    "executionInfo": {
     "elapsed": 6290,
     "status": "ok",
     "timestamp": 1735815050655,
     "user": {
      "displayName": "Vinícius Alexandre",
      "userId": "02678239040136017208"
     },
     "user_tz": 180
    },
    "id": "WcKooaXPOCRG",
    "outputId": "81fce572-b613-46cb-dddf-a3ad652bc1bf"
   },
   "outputs": [
    {
     "data": {
      "text/html": [
       "<div>\n",
       "<style scoped>\n",
       "    .dataframe tbody tr th:only-of-type {\n",
       "        vertical-align: middle;\n",
       "    }\n",
       "\n",
       "    .dataframe tbody tr th {\n",
       "        vertical-align: top;\n",
       "    }\n",
       "\n",
       "    .dataframe thead th {\n",
       "        text-align: right;\n",
       "    }\n",
       "</style>\n",
       "<table border=\"1\" class=\"dataframe\">\n",
       "  <thead>\n",
       "    <tr style=\"text-align: right;\">\n",
       "      <th></th>\n",
       "      <th>ItemId</th>\n",
       "      <th>Title</th>\n",
       "      <th>Year</th>\n",
       "      <th>Rated</th>\n",
       "      <th>Runtime (min)</th>\n",
       "      <th>Genre</th>\n",
       "      <th>Director</th>\n",
       "      <th>Writer</th>\n",
       "      <th>Actors</th>\n",
       "      <th>Plot</th>\n",
       "      <th>Language</th>\n",
       "      <th>Country</th>\n",
       "      <th>Metascore</th>\n",
       "      <th>imdbRating</th>\n",
       "      <th>imdbVotes</th>\n",
       "      <th>Type</th>\n",
       "    </tr>\n",
       "  </thead>\n",
       "  <tbody>\n",
       "    <tr>\n",
       "      <th>0</th>\n",
       "      <td>c9f0f895fb</td>\n",
       "      <td>Edison Kinetoscopic Record of a Sneeze</td>\n",
       "      <td>1894</td>\n",
       "      <td>NOT_RATED</td>\n",
       "      <td>1</td>\n",
       "      <td>Documentary Short</td>\n",
       "      <td>William K.L. Dickson</td>\n",
       "      <td>nan</td>\n",
       "      <td>Fred Ott</td>\n",
       "      <td>A man Edisons assistant takes a pinch of snuff...</td>\n",
       "      <td>nan</td>\n",
       "      <td>USA</td>\n",
       "      <td>0</td>\n",
       "      <td>5.5</td>\n",
       "      <td>1980</td>\n",
       "      <td>movie</td>\n",
       "    </tr>\n",
       "    <tr>\n",
       "      <th>1</th>\n",
       "      <td>d3d9446802</td>\n",
       "      <td>Leaving the Factory</td>\n",
       "      <td>1895</td>\n",
       "      <td>NOT_RATED</td>\n",
       "      <td>1</td>\n",
       "      <td>Documentary Short</td>\n",
       "      <td>Louis Lumière</td>\n",
       "      <td>nan</td>\n",
       "      <td>nan</td>\n",
       "      <td>A man opens the big gates to the Lumière facto...</td>\n",
       "      <td>nan</td>\n",
       "      <td>France</td>\n",
       "      <td>0</td>\n",
       "      <td>6.9</td>\n",
       "      <td>6633</td>\n",
       "      <td>movie</td>\n",
       "    </tr>\n",
       "    <tr>\n",
       "      <th>2</th>\n",
       "      <td>c20ad4d76f</td>\n",
       "      <td>The Arrival of a Train</td>\n",
       "      <td>1896</td>\n",
       "      <td>NOT_RATED</td>\n",
       "      <td>1</td>\n",
       "      <td>Documentary Short</td>\n",
       "      <td>Auguste Lumière Louis Lumière</td>\n",
       "      <td>nan</td>\n",
       "      <td>Madeleine Koehler Marcel Koehler Mrs. Auguste ...</td>\n",
       "      <td>A group of people are standing in a straight l...</td>\n",
       "      <td>nan</td>\n",
       "      <td>France</td>\n",
       "      <td>0</td>\n",
       "      <td>7.5</td>\n",
       "      <td>11407</td>\n",
       "      <td>movie</td>\n",
       "    </tr>\n",
       "    <tr>\n",
       "      <th>3</th>\n",
       "      <td>8e296a067a</td>\n",
       "      <td>The Oxford and Cambridge University Boat Race</td>\n",
       "      <td>1895</td>\n",
       "      <td>NOT_RATED</td>\n",
       "      <td>0</td>\n",
       "      <td>Short News Sport</td>\n",
       "      <td>Birt Acres</td>\n",
       "      <td>nan</td>\n",
       "      <td>nan</td>\n",
       "      <td>Although the content of this film is primitive...</td>\n",
       "      <td>nan</td>\n",
       "      <td>UK</td>\n",
       "      <td>0</td>\n",
       "      <td>4.2</td>\n",
       "      <td>39</td>\n",
       "      <td>movie</td>\n",
       "    </tr>\n",
       "    <tr>\n",
       "      <th>4</th>\n",
       "      <td>54229abfcf</td>\n",
       "      <td>The House of the Devil</td>\n",
       "      <td>1896</td>\n",
       "      <td>NOT_RATED</td>\n",
       "      <td>3</td>\n",
       "      <td>Short Horror</td>\n",
       "      <td>Georges Méliès</td>\n",
       "      <td>Georges Méliès</td>\n",
       "      <td>Jehanne dAlcy JulesEugène Legris Georges Méliès</td>\n",
       "      <td>A bat flies into an ancient castle and transfo...</td>\n",
       "      <td>nan</td>\n",
       "      <td>France</td>\n",
       "      <td>0</td>\n",
       "      <td>6.7</td>\n",
       "      <td>3268</td>\n",
       "      <td>movie</td>\n",
       "    </tr>\n",
       "    <tr>\n",
       "      <th>...</th>\n",
       "      <td>...</td>\n",
       "      <td>...</td>\n",
       "      <td>...</td>\n",
       "      <td>...</td>\n",
       "      <td>...</td>\n",
       "      <td>...</td>\n",
       "      <td>...</td>\n",
       "      <td>...</td>\n",
       "      <td>...</td>\n",
       "      <td>...</td>\n",
       "      <td>...</td>\n",
       "      <td>...</td>\n",
       "      <td>...</td>\n",
       "      <td>...</td>\n",
       "      <td>...</td>\n",
       "      <td>...</td>\n",
       "    </tr>\n",
       "    <tr>\n",
       "      <th>38007</th>\n",
       "      <td>6c0ffc79d0</td>\n",
       "      <td>Yara</td>\n",
       "      <td>2021</td>\n",
       "      <td>TV14</td>\n",
       "      <td>96</td>\n",
       "      <td>Crime Drama Thriller</td>\n",
       "      <td>Marco Tullio Giordana</td>\n",
       "      <td>Graziano Diana Giacomo Martelli</td>\n",
       "      <td>Isabella Ragonese Alessio Boni Thomas Trabacchi</td>\n",
       "      <td>A determined prosecutor becomes consumed with ...</td>\n",
       "      <td>Italian</td>\n",
       "      <td>Italy</td>\n",
       "      <td>0</td>\n",
       "      <td>6.2</td>\n",
       "      <td>3202</td>\n",
       "      <td>movie</td>\n",
       "    </tr>\n",
       "    <tr>\n",
       "      <th>38008</th>\n",
       "      <td>e02f371f8c</td>\n",
       "      <td>Lords of Scam</td>\n",
       "      <td>2021</td>\n",
       "      <td>NOT_RATED</td>\n",
       "      <td>105</td>\n",
       "      <td>Documentary Crime</td>\n",
       "      <td>Guillaume Nicloux</td>\n",
       "      <td>Olivier Bouchara</td>\n",
       "      <td>nan</td>\n",
       "      <td>This documentary traces the rise and crash of ...</td>\n",
       "      <td>French</td>\n",
       "      <td>France</td>\n",
       "      <td>0</td>\n",
       "      <td>6.3</td>\n",
       "      <td>418</td>\n",
       "      <td>movie</td>\n",
       "    </tr>\n",
       "    <tr>\n",
       "      <th>38009</th>\n",
       "      <td>8c2a2a22b8</td>\n",
       "      <td>Cash</td>\n",
       "      <td>2021</td>\n",
       "      <td>NOT_RATED</td>\n",
       "      <td>118</td>\n",
       "      <td>Comedy Drama</td>\n",
       "      <td>Rishab Seth</td>\n",
       "      <td>Vishesh Bhatt Rishab Seth Aarsh Vora</td>\n",
       "      <td>Amol Parashar Smiriti Kalra Gulshan Grover</td>\n",
       "      <td>The government announces demonetization. The s...</td>\n",
       "      <td>Hindi</td>\n",
       "      <td>India</td>\n",
       "      <td>0</td>\n",
       "      <td>7.2</td>\n",
       "      <td>1779</td>\n",
       "      <td>movie</td>\n",
       "    </tr>\n",
       "    <tr>\n",
       "      <th>38010</th>\n",
       "      <td>ae74ba6bb7</td>\n",
       "      <td>Sompoy</td>\n",
       "      <td>2021</td>\n",
       "      <td>NOT_RATED</td>\n",
       "      <td>120</td>\n",
       "      <td>Comedy Romance</td>\n",
       "      <td>Anawat Phromchae Aroonakorn Pick</td>\n",
       "      <td>Anawat Phromchae Aroonakorn Pick</td>\n",
       "      <td>Pijakkana Wongsarattanasin Tanapol Jarujittran...</td>\n",
       "      <td>A love triangle story of a young woman named S...</td>\n",
       "      <td>Thai</td>\n",
       "      <td>Thailand</td>\n",
       "      <td>0</td>\n",
       "      <td>0.0</td>\n",
       "      <td>5</td>\n",
       "      <td>movie</td>\n",
       "    </tr>\n",
       "    <tr>\n",
       "      <th>38011</th>\n",
       "      <td>7adfbaeadf</td>\n",
       "      <td>The Making of Rocky vs. Drago</td>\n",
       "      <td>2021</td>\n",
       "      <td>NOT_RATED</td>\n",
       "      <td>93</td>\n",
       "      <td>Documentary</td>\n",
       "      <td>John Herzfeld</td>\n",
       "      <td>nan</td>\n",
       "      <td>Brigitte Nielsen Talia Shire Sylvester Stallone</td>\n",
       "      <td>nan</td>\n",
       "      <td>English</td>\n",
       "      <td>USA</td>\n",
       "      <td>0</td>\n",
       "      <td>0.0</td>\n",
       "      <td>0</td>\n",
       "      <td>movie</td>\n",
       "    </tr>\n",
       "  </tbody>\n",
       "</table>\n",
       "<p>38012 rows × 16 columns</p>\n",
       "</div>"
      ],
      "text/plain": [
       "           ItemId                                          Title  Year  \\\n",
       "0      c9f0f895fb         Edison Kinetoscopic Record of a Sneeze  1894   \n",
       "1      d3d9446802                            Leaving the Factory  1895   \n",
       "2      c20ad4d76f                         The Arrival of a Train  1896   \n",
       "3      8e296a067a  The Oxford and Cambridge University Boat Race  1895   \n",
       "4      54229abfcf                         The House of the Devil  1896   \n",
       "...           ...                                            ...   ...   \n",
       "38007  6c0ffc79d0                                           Yara  2021   \n",
       "38008  e02f371f8c                                  Lords of Scam  2021   \n",
       "38009  8c2a2a22b8                                           Cash  2021   \n",
       "38010  ae74ba6bb7                                         Sompoy  2021   \n",
       "38011  7adfbaeadf                  The Making of Rocky vs. Drago  2021   \n",
       "\n",
       "           Rated  Runtime (min)                 Genre  \\\n",
       "0      NOT_RATED              1     Documentary Short   \n",
       "1      NOT_RATED              1     Documentary Short   \n",
       "2      NOT_RATED              1     Documentary Short   \n",
       "3      NOT_RATED              0      Short News Sport   \n",
       "4      NOT_RATED              3          Short Horror   \n",
       "...          ...            ...                   ...   \n",
       "38007       TV14             96  Crime Drama Thriller   \n",
       "38008  NOT_RATED            105     Documentary Crime   \n",
       "38009  NOT_RATED            118          Comedy Drama   \n",
       "38010  NOT_RATED            120        Comedy Romance   \n",
       "38011  NOT_RATED             93           Documentary   \n",
       "\n",
       "                               Director                                Writer  \\\n",
       "0                  William K.L. Dickson                                   nan   \n",
       "1                         Louis Lumière                                   nan   \n",
       "2         Auguste Lumière Louis Lumière                                   nan   \n",
       "3                            Birt Acres                                   nan   \n",
       "4                        Georges Méliès                        Georges Méliès   \n",
       "...                                 ...                                   ...   \n",
       "38007             Marco Tullio Giordana       Graziano Diana Giacomo Martelli   \n",
       "38008                 Guillaume Nicloux                      Olivier Bouchara   \n",
       "38009                       Rishab Seth  Vishesh Bhatt Rishab Seth Aarsh Vora   \n",
       "38010  Anawat Phromchae Aroonakorn Pick      Anawat Phromchae Aroonakorn Pick   \n",
       "38011                     John Herzfeld                                   nan   \n",
       "\n",
       "                                                  Actors  \\\n",
       "0                                               Fred Ott   \n",
       "1                                                    nan   \n",
       "2      Madeleine Koehler Marcel Koehler Mrs. Auguste ...   \n",
       "3                                                    nan   \n",
       "4        Jehanne dAlcy JulesEugène Legris Georges Méliès   \n",
       "...                                                  ...   \n",
       "38007    Isabella Ragonese Alessio Boni Thomas Trabacchi   \n",
       "38008                                                nan   \n",
       "38009         Amol Parashar Smiriti Kalra Gulshan Grover   \n",
       "38010  Pijakkana Wongsarattanasin Tanapol Jarujittran...   \n",
       "38011    Brigitte Nielsen Talia Shire Sylvester Stallone   \n",
       "\n",
       "                                                    Plot Language   Country  \\\n",
       "0      A man Edisons assistant takes a pinch of snuff...      nan       USA   \n",
       "1      A man opens the big gates to the Lumière facto...      nan    France   \n",
       "2      A group of people are standing in a straight l...      nan    France   \n",
       "3      Although the content of this film is primitive...      nan        UK   \n",
       "4      A bat flies into an ancient castle and transfo...      nan    France   \n",
       "...                                                  ...      ...       ...   \n",
       "38007  A determined prosecutor becomes consumed with ...  Italian     Italy   \n",
       "38008  This documentary traces the rise and crash of ...   French    France   \n",
       "38009  The government announces demonetization. The s...    Hindi     India   \n",
       "38010  A love triangle story of a young woman named S...     Thai  Thailand   \n",
       "38011                                                nan  English       USA   \n",
       "\n",
       "       Metascore  imdbRating  imdbVotes   Type  \n",
       "0              0         5.5       1980  movie  \n",
       "1              0         6.9       6633  movie  \n",
       "2              0         7.5      11407  movie  \n",
       "3              0         4.2         39  movie  \n",
       "4              0         6.7       3268  movie  \n",
       "...          ...         ...        ...    ...  \n",
       "38007          0         6.2       3202  movie  \n",
       "38008          0         6.3        418  movie  \n",
       "38009          0         7.2       1779  movie  \n",
       "38010          0         0.0          5  movie  \n",
       "38011          0         0.0          0  movie  \n",
       "\n",
       "[38012 rows x 16 columns]"
      ]
     },
     "execution_count": 35,
     "metadata": {},
     "output_type": "execute_result"
    }
   ],
   "source": [
    "with ZipFile(\"content.zip\", \"r\") as zip_content:\n",
    "    zip_content.extract(\"content.jsonl\")\n",
    "\n",
    "with open(\"content.jsonl\", \"r\") as f:\n",
    "    contents = [json.loads(line) for line in f]\n",
    "\n",
    "contents_df = make_dataframe(contents)\n",
    "contents_df"
   ]
  },
  {
   "cell_type": "code",
   "execution_count": 36,
   "metadata": {
    "executionInfo": {
     "elapsed": 238,
     "status": "ok",
     "timestamp": 1735815123375,
     "user": {
      "displayName": "Vinícius Alexandre",
      "userId": "02678239040136017208"
     },
     "user_tz": 180
    },
    "id": "5KAC08CvFxWV"
   },
   "outputs": [],
   "source": [
    "def get_features(df, ItemId):\n",
    "    \"\"\"\n",
    "    Get the features of an item from a DataFrame.\n",
    "\n",
    "    Args:\n",
    "        df (pd.DataFrame): The DataFrame containing the item features.\n",
    "        ItemId (str): The ID of the item.\n",
    "\n",
    "    Returns:\n",
    "        dict: A dictionary of the item's features.\n",
    "    \"\"\"\n",
    "    item = df[df[\"ItemId\"] == ItemId]\n",
    "    if item.empty:\n",
    "        return None\n",
    "\n",
    "    category_columns = [col for col in df.columns if df[col].dtype == \"object\"]\n",
    "    category_columns.remove(\"ItemId\")\n",
    "    features = {}\n",
    "    for col in category_columns:\n",
    "        features[col] = item[col].values[0]\n",
    "    # Convert NaN values to empty strings\n",
    "    for key, value in features.items():\n",
    "        if value == \"nan\" or pd.isna(value):\n",
    "            features[key] = \"\"\n",
    "    return features\n",
    "\n",
    "\n",
    "def features_to_str(features):\n",
    "    \"\"\"\n",
    "    Convert a dictionary of features to a string.\n",
    "\n",
    "    Args:\n",
    "        features (dict): A dictionary of features.\n",
    "\n",
    "    Returns:\n",
    "        str: A string of features.\n",
    "    \"\"\"\n",
    "    if features is None:\n",
    "        return \"\"\n",
    "    text = \"\"\n",
    "    for key, value in features.items():\n",
    "        text += f\"{str(value).lower()} \"\n",
    "\n",
    "    return \" \".join(text.split())"
   ]
  },
  {
   "cell_type": "code",
   "execution_count": 37,
   "metadata": {
    "colab": {
     "base_uri": "https://localhost:8080/"
    },
    "executionInfo": {
     "elapsed": 256,
     "status": "ok",
     "timestamp": 1735832450147,
     "user": {
      "displayName": "Vinícius Alexandre",
      "userId": "02678239040136017208"
     },
     "user_tz": 180
    },
    "id": "r0m_w6hjcTR1",
    "outputId": "ab9ae236-6873-4367-d7c0-0fbc5da6fb6d"
   },
   "outputs": [
    {
     "name": "stdout",
     "output_type": "stream",
     "text": [
      "{'Title': 'The Making of Rocky vs. Drago', 'Rated': 'NOT_RATED', 'Genre': 'Documentary', 'Director': 'John Herzfeld', 'Writer': '', 'Actors': 'Brigitte Nielsen Talia Shire Sylvester Stallone', 'Plot': '', 'Language': 'English', 'Country': 'USA', 'Type': 'movie'}\n",
      "the making of rocky vs. drago not_rated documentary john herzfeld brigitte nielsen talia shire sylvester stallone english usa movie\n"
     ]
    }
   ],
   "source": [
    "features = get_features(contents_df, \"7adfbaeadf\")\n",
    "print(features)\n",
    "print(features_to_str(features))"
   ]
  },
  {
   "cell_type": "code",
   "execution_count": 38,
   "metadata": {
    "executionInfo": {
     "elapsed": 229,
     "status": "ok",
     "timestamp": 1735816555987,
     "user": {
      "displayName": "Vinícius Alexandre",
      "userId": "02678239040136017208"
     },
     "user_tz": 180
    },
    "id": "VmDeY_qPeevN"
   },
   "outputs": [],
   "source": [
    "def get_tfidf(df):\n",
    "    \"\"\"\n",
    "    Calculates the Term Frequency-Inverse Document Frequency for the features of each item in the dataframe.\n",
    "\n",
    "    Args:\n",
    "        df (pd.DataFrame): Dataframe containing item features.\n",
    "\n",
    "    Returns:\n",
    "        scipy.sparse.csr_matrix: TF-IDF matrix.\n",
    "        list: Feature names.\n",
    "    \"\"\"\n",
    "    vectorizer = TfidfVectorizer()\n",
    "\n",
    "    # Apply features_to_str to each item's features\n",
    "    item_features_text = []\n",
    "    for index, row in df.iterrows():\n",
    "        item_id = row[\"ItemId\"]\n",
    "        features = get_features(df, item_id)\n",
    "        item_features_text.append(features_to_str(features))\n",
    "\n",
    "    tfidf_matrix = vectorizer.fit_transform(item_features_text)\n",
    "    feature_names = vectorizer.get_feature_names_out()\n",
    "\n",
    "    return tfidf_matrix, feature_names"
   ]
  },
  {
   "cell_type": "code",
   "execution_count": 39,
   "metadata": {
    "colab": {
     "base_uri": "https://localhost:8080/"
    },
    "executionInfo": {
     "elapsed": 379881,
     "status": "ok",
     "timestamp": 1735815566287,
     "user": {
      "displayName": "Vinícius Alexandre",
      "userId": "02678239040136017208"
     },
     "user_tz": 180
    },
    "id": "Gpx8rSjwepdT",
    "outputId": "ad3c4dac-f4d8-42d6-f45e-45db8717bc01"
   },
   "outputs": [
    {
     "name": "stdout",
     "output_type": "stream",
     "text": [
      "Shape of TF-IDF Matrix: (38012, 149493)\n",
      "Number of Feature Names: 149493\n"
     ]
    }
   ],
   "source": [
    "tfidf_matrix, feature_names = get_tfidf(contents_df)\n",
    "\n",
    "# Print the shape of the tfidf matrix and the number of feature names\n",
    "print(\"Shape of TF-IDF Matrix:\", tfidf_matrix.shape)\n",
    "print(\"Number of Feature Names:\", len(feature_names))"
   ]
  },
  {
   "cell_type": "code",
   "execution_count": 40,
   "metadata": {
    "executionInfo": {
     "elapsed": 257,
     "status": "ok",
     "timestamp": 1735826100947,
     "user": {
      "displayName": "Vinícius Alexandre",
      "userId": "02678239040136017208"
     },
     "user_tz": 180
    },
    "id": "lYwVvKomN5Ca"
   },
   "outputs": [],
   "source": [
    "items_idx = dict(zip(contents_df[\"ItemId\"], range(len(contents_df))))\n",
    "features_idx = dict(zip(feature_names, range(len(feature_names))))\n",
    "users_idx = dict(zip(ratings_df[\"UserId\"].unique(), range(len(ratings_df))))"
   ]
  },
  {
   "cell_type": "code",
   "execution_count": 41,
   "metadata": {
    "executionInfo": {
     "elapsed": 264,
     "status": "ok",
     "timestamp": 1735832676872,
     "user": {
      "displayName": "Vinícius Alexandre",
      "userId": "02678239040136017208"
     },
     "user_tz": 180
    },
    "id": "SwKiOxc6NvlA"
   },
   "outputs": [],
   "source": [
    "def get_item_vector(item_id, items_idx=items_idx, tfidf_matrix=tfidf_matrix):\n",
    "    \"\"\"\n",
    "    Get the vector representation of an item.\n",
    "\n",
    "    Args:\n",
    "        item_id (str): The ID of the item.\n",
    "        items_idx (dict): A dictionary mapping item IDs to their index in the tfidf matrix.\n",
    "        tfidf_matrix (scipy.sparse.csr_matrix): The TF-IDF matrix.\n",
    "\n",
    "    Returns:\n",
    "        numpy.ndarray: The vector representation of the item.\n",
    "    \"\"\"\n",
    "    if item_id not in items_idx:\n",
    "        return None\n",
    "    item_index = items_idx[item_id]\n",
    "    item_vector = tfidf_matrix[item_index].toarray()[0]\n",
    "    return item_vector\n",
    "\n",
    "\n",
    "def get_user_vector(\n",
    "    user_id, ratings_df, items_idx=items_idx, tfidf_matrix=tfidf_matrix\n",
    "):\n",
    "    \"\"\"\n",
    "    Get the vector representation of a user.\n",
    "\n",
    "    Args:\n",
    "        user_id (str): The ID of the user.\n",
    "        ratings_df (pd.DataFrame): The ratings dataframe.\n",
    "        items_idx (dict): A dictionary mapping item IDs to their index in the tfidf matrix.\n",
    "        tfidf_matrix (scipy.sparse.csr_matrix): The TF-IDF matrix.\n",
    "\n",
    "    Returns:\n",
    "        numpy.ndarray: The vector representation of the user.\n",
    "    \"\"\"\n",
    "    user_ratings = ratings_df[ratings_df[\"UserId\"] == user_id]\n",
    "    if user_ratings.empty:\n",
    "        return None\n",
    "\n",
    "    user_vector = np.zeros(tfidf_matrix.shape[1])\n",
    "    for index, row in user_ratings.iterrows():\n",
    "        item_id = row[\"ItemId\"]\n",
    "        rating = row[\"Rating\"]\n",
    "        item_vector = get_item_vector(item_id)\n",
    "        if item_vector is not None:\n",
    "            user_vector += item_vector * rating\n",
    "\n",
    "    user_vector /= len(user_ratings)\n",
    "    return user_vector"
   ]
  },
  {
   "cell_type": "code",
   "execution_count": 42,
   "metadata": {
    "colab": {
     "base_uri": "https://localhost:8080/"
    },
    "executionInfo": {
     "elapsed": 262,
     "status": "ok",
     "timestamp": 1735832634387,
     "user": {
      "displayName": "Vinícius Alexandre",
      "userId": "02678239040136017208"
     },
     "user_tz": 180
    },
    "id": "sL-XCph6r9qo",
    "outputId": "6cd74ad5-5fce-4e09-de8b-a4e48d4fd2b2"
   },
   "outputs": [
    {
     "name": "stdout",
     "output_type": "stream",
     "text": [
      "(149493,)\n"
     ]
    }
   ],
   "source": [
    "print(get_item_vector(\"7adfbaeadf\").shape)"
   ]
  },
  {
   "cell_type": "code",
   "execution_count": 43,
   "metadata": {
    "colab": {
     "base_uri": "https://localhost:8080/"
    },
    "executionInfo": {
     "elapsed": 256,
     "status": "ok",
     "timestamp": 1735832635287,
     "user": {
      "displayName": "Vinícius Alexandre",
      "userId": "02678239040136017208"
     },
     "user_tz": 180
    },
    "id": "00mXY1_Iz8zR",
    "outputId": "e85d175e-526a-4bbb-a509-1fabcaf9c64f"
   },
   "outputs": [
    {
     "name": "stdout",
     "output_type": "stream",
     "text": [
      "(149493,)\n"
     ]
    }
   ],
   "source": [
    "print(get_user_vector(\"7804b284a3\", ratings_df).shape)"
   ]
  },
  {
   "cell_type": "code",
   "execution_count": 44,
   "metadata": {
    "executionInfo": {
     "elapsed": 262,
     "status": "ok",
     "timestamp": 1735824156935,
     "user": {
      "displayName": "Vinícius Alexandre",
      "userId": "02678239040136017208"
     },
     "user_tz": 180
    },
    "id": "cEHQJY2DyrTp"
   },
   "outputs": [],
   "source": [
    "def cos_sim(v1, v2):\n",
    "    \"\"\"\n",
    "    Calculate the cosine similarity between two vectors.\n",
    "\n",
    "    Args:\n",
    "        v1 (numpy.ndarray): The first vector.\n",
    "        v2 (numpy.ndarray): The second vector.\n",
    "\n",
    "    Returns:\n",
    "        float: The cosine similarity between the two vectors.\n",
    "    \"\"\"\n",
    "    return np.dot(v1, v2) / (np.linalg.norm(v1) * np.linalg.norm(v2))"
   ]
  },
  {
   "cell_type": "code",
   "execution_count": 45,
   "metadata": {
    "executionInfo": {
     "elapsed": 273,
     "status": "ok",
     "timestamp": 1735832938779,
     "user": {
      "displayName": "Vinícius Alexandre",
      "userId": "02678239040136017208"
     },
     "user_tz": 180
    },
    "id": "T0BC6Jzg1S-t"
   },
   "outputs": [],
   "source": [
    "def get_utility_matrix(ratings_df, contents_df):\n",
    "    \"\"\"\n",
    "    Create a utility matrix from a ratings dataframe.\n",
    "\n",
    "    Args:\n",
    "        ratings_df (pd.DataFrame): The ratings dataframe.\n",
    "        contents_df (pd.DataFrame): The contents dataframe.\n",
    "\n",
    "    Returns:\n",
    "        scipy.sparse.csr_matrix: The utility matrix.\n",
    "    \"\"\"\n",
    "    # Create user and item mappings\n",
    "    user_map = {user: i for i, user in enumerate(ratings_df[\"UserId\"].unique())}\n",
    "    item_map = {item: i for i, item in enumerate(contents_df[\"ItemId\"])}\n",
    "\n",
    "    # Extract data for sparse matrix\n",
    "    rows = [user_map[user] for user in ratings_df[\"UserId\"]]\n",
    "    cols = [item_map[item] for item in ratings_df[\"ItemId\"]]\n",
    "    data = ratings_df[\"Rating\"]\n",
    "\n",
    "    # Create the sparse matrix\n",
    "    sparse_matrix = sparse.csr_matrix(\n",
    "        (data, (rows, cols)), shape=(len(user_map), len(item_map)), dtype=np.int8\n",
    "    )\n",
    "    return sparse_matrix\n",
    "\n",
    "\n",
    "def n_ratings(user_index, utility_matrix):\n",
    "    \"\"\"\n",
    "    Get the number of ratings for a user.\n",
    "\n",
    "    Args:\n",
    "        user_index (int): The index of the user.\n",
    "        utility_matrix (scipy.sparse.csr_matrix): The utility matrix.\n",
    "\n",
    "    Returns:\n",
    "        int: The number of ratings for the user.\n",
    "    \"\"\"\n",
    "    user_ratings = utility_matrix[user_index, :].nonzero()[1]\n",
    "    return len(user_ratings)"
   ]
  },
  {
   "cell_type": "code",
   "execution_count": 46,
   "metadata": {
    "colab": {
     "base_uri": "https://localhost:8080/"
    },
    "executionInfo": {
     "elapsed": 1715,
     "status": "ok",
     "timestamp": 1735832952246,
     "user": {
      "displayName": "Vinícius Alexandre",
      "userId": "02678239040136017208"
     },
     "user_tz": 180
    },
    "id": "Aovn5gUCRv02",
    "outputId": "c53de632-61a3-4300-d65b-ee86fd0adbee"
   },
   "outputs": [
    {
     "data": {
      "text/plain": [
       "<51671x38012 sparse matrix of type '<class 'numpy.int8'>'\n",
       "\twith 659720 stored elements in Compressed Sparse Row format>"
      ]
     },
     "execution_count": 46,
     "metadata": {},
     "output_type": "execute_result"
    }
   ],
   "source": [
    "utility_matrix = get_utility_matrix(ratings_df, contents_df)\n",
    "utility_matrix"
   ]
  },
  {
   "cell_type": "code",
   "execution_count": 47,
   "metadata": {},
   "outputs": [],
   "source": [
    "items_idx = dict(zip(contents_df[\"ItemId\"], range(len(contents_df))))"
   ]
  },
  {
   "cell_type": "code",
   "execution_count": 48,
   "metadata": {
    "executionInfo": {
     "elapsed": 234,
     "status": "ok",
     "timestamp": 1735829356153,
     "user": {
      "displayName": "Vinícius Alexandre",
      "userId": "02678239040136017208"
     },
     "user_tz": 180
    },
    "id": "BMUWvx172rfX"
   },
   "outputs": [
    {
     "name": "stdout",
     "output_type": "stream",
     "text": [
      "(149493,)\n"
     ]
    }
   ],
   "source": [
    "def get_item_vector(item_id, items_idx, tfidf_matrix):\n",
    "    \"\"\"\n",
    "    Get the vector representation of an item.\n",
    "\n",
    "    Args:\n",
    "        item_id (str): The ID of the item.\n",
    "        contents_df (pd.DataFrame): DataFrame containing item features.\n",
    "        tfidf_matrix (scipy.sparse.csr_matrix): The TF-IDF matrix.\n",
    "\n",
    "    Returns:\n",
    "        numpy.ndarray: The vector representation of the item.\n",
    "    \"\"\"\n",
    "    if item_id not in items_idx:\n",
    "        return None\n",
    "    item_index = items_idx[item_id]\n",
    "    item_vector = tfidf_matrix[item_index].toarray()[0]\n",
    "    return item_vector\n",
    "\n",
    "\n",
    "print(get_item_vector(\"7adfbaeadf\", items_idx, tfidf_matrix).shape)"
   ]
  },
  {
   "cell_type": "code",
   "execution_count": 49,
   "metadata": {
    "colab": {
     "base_uri": "https://localhost:8080/"
    },
    "executionInfo": {
     "elapsed": 232,
     "status": "ok",
     "timestamp": 1735829357316,
     "user": {
      "displayName": "Vinícius Alexandre",
      "userId": "02678239040136017208"
     },
     "user_tz": 180
    },
    "id": "3mQTOXriZJ9J",
    "outputId": "22cc8893-4903-4148-8993-76f5e7c9e32b"
   },
   "outputs": [],
   "source": [
    "def get_user_vector(\n",
    "    user_id, ratings_df, utility_matrix=utility_matrix, tfidf_matrix=tfidf_matrix\n",
    "):\n",
    "    \"\"\"\n",
    "    Get the vector representation of a user.\n",
    "\n",
    "    Args:\n",
    "        user_id (str): The ID of the user.\n",
    "        ratings_df (pd.DataFrame): DataFrame containing user-item ratings.\n",
    "        items_idx (dict): A dictionary mapping item IDs to their index in the tfidf matrix.\n",
    "        utility_matrix (scipy.sparse.csr_matrix): The utility matrix.\n",
    "        tfidf_matrix (scipy.sparse.csr_matrix): The TF-IDF matrix.\n",
    "\n",
    "    Returns:\n",
    "        numpy.ndarray: The vector representation of the user.\n",
    "    \"\"\"\n",
    "    user_map = {user: i for i, user in enumerate(ratings_df[\"UserId\"].unique())}\n",
    "    u = utility_matrix[user_map[user_id], :].tocsr()\n",
    "    user_vector = np.dot(u, tfidf_matrix).toarray()\n",
    "    return user_vector\n",
    "\n",
    "\n",
    "def get_item_ranking(user_id, targets_df, user_vector, tfidf_matrix, top=100):\n",
    "    \"\"\"\n",
    "    Get the ranking of items for a user.\n",
    "\n",
    "    Args:\n",
    "        user_id (str): The ID of the user.\n",
    "        targets_df (pd.DataFrame): DataFrame containing user-item targets.\n",
    "        user_vector (numpy.ndarray): The vector representation of the user.\n",
    "        tfidf_matrix (scipy.sparse.csr_matrix): The TF-IDF matrix.\n",
    "        top (int): The number of top items to consider.\n",
    "\n",
    "    Returns:\n",
    "        dict: A dictionary of the top items for the user.\n",
    "    \"\"\"\n",
    "    item_map = {item: i for i, item in enumerate(contents_df[\"ItemId\"])}\n",
    "    user_targets = targets_df.loc[targets_df[\"UserId\"] == user_id, \"ItemId\"].tolist()\n",
    "\n",
    "    r_ui = dict(zip(user_targets, np.zeros(len(user_targets))))\n",
    "    for item_id in user_targets:\n",
    "        item_vector = get_item_vector(item_id, item_map, tfidf_matrix)\n",
    "        r_ui[item_id] = cos_sim(user_vector.flatten(), item_vector.flatten())\n",
    "\n",
    "    item_ranking = {\n",
    "        k: v for k, v in sorted(r_ui.items(), key=lambda item: item[1], reverse=True)\n",
    "    }\n",
    "    top_items = dict(list(item_ranking.items())[:top])\n",
    "    return top_items"
   ]
  },
  {
   "cell_type": "code",
   "execution_count": 50,
   "metadata": {},
   "outputs": [
    {
     "name": "stdout",
     "output_type": "stream",
     "text": [
      "(149493,)\n",
      "(149493,)\n",
      "0.03888967937161518\n"
     ]
    }
   ],
   "source": [
    "user_vector = get_user_vector(\"fffffe98d0\", ratings_df).flatten()\n",
    "item_vector = get_item_vector(\"7adfbaeadf\", items_idx, tfidf_matrix).flatten()\n",
    "print(user_vector.shape)\n",
    "print(item_vector.shape)\n",
    "print(cos_sim(user_vector, item_vector))"
   ]
  },
  {
   "cell_type": "code",
   "execution_count": 51,
   "metadata": {},
   "outputs": [],
   "source": [
    "# Print iterations progress\n",
    "def printProgressBar(\n",
    "    iteration,\n",
    "    total,\n",
    "    prefix=\"\",\n",
    "    suffix=\"\",\n",
    "    decimals=1,\n",
    "    length=100,\n",
    "    fill=\"█\",\n",
    "    printEnd=\"\\r\",\n",
    "):\n",
    "    \"\"\"\n",
    "    Call in a loop to create terminal progress bar\n",
    "\n",
    "    Args:\n",
    "        iteration (int): current iteration\n",
    "        total (int): total iterations\n",
    "        prefix (str): prefix string\n",
    "        suffix (str): suffix string\n",
    "        decimals (int): positive number of decimals in percent complete\n",
    "        length (int): character length of bar\n",
    "        fill (str): bar fill character\n",
    "        printEnd (str): end character (e.g. \"\\r\", \"\\r\\n\")\n",
    "    \"\"\"\n",
    "    percent = (\"{0:.\" + str(decimals) + \"f}\").format(100 * (iteration / float(total)))\n",
    "    filledLength = int(length * iteration // total)\n",
    "    bar = fill * filledLength + \"-\" * (length - filledLength)\n",
    "    print(f\"\\r{prefix} |{bar}| {percent}% {suffix}\", end=printEnd)\n",
    "    # Print New Line on Complete\n",
    "    if iteration == total:\n",
    "        print()"
   ]
  },
  {
   "cell_type": "code",
   "execution_count": 58,
   "metadata": {},
   "outputs": [
    {
     "name": "stdout",
     "output_type": "stream",
     "text": [
      "Progress: |██████████████████████████████████████████████████| 100.0% Complete\n"
     ]
    }
   ],
   "source": [
    "user_rankings = {}\n",
    "users_id = list(targets_df[\"UserId\"].unique())\n",
    "l = len(users_id)\n",
    "printProgressBar(0, l, prefix=\"Progress:\", suffix=\"Complete\", length=50)\n",
    "\n",
    "for i, user_id in enumerate(users_id):\n",
    "    user_vector = get_user_vector(user_id, ratings_df).flatten()\n",
    "    user_rankings[user_id] = get_item_ranking(\n",
    "        user_id, targets_df, user_vector, tfidf_matrix\n",
    "    )\n",
    "    printProgressBar(i + 1, l, prefix=\"Progress:\", suffix=\"Complete\", length=50)"
   ]
  },
  {
   "cell_type": "code",
   "execution_count": 60,
   "metadata": {},
   "outputs": [
    {
     "data": {
      "text/html": [
       "<div>\n",
       "<style scoped>\n",
       "    .dataframe tbody tr th:only-of-type {\n",
       "        vertical-align: middle;\n",
       "    }\n",
       "\n",
       "    .dataframe tbody tr th {\n",
       "        vertical-align: top;\n",
       "    }\n",
       "\n",
       "    .dataframe thead th {\n",
       "        text-align: right;\n",
       "    }\n",
       "</style>\n",
       "<table border=\"1\" class=\"dataframe\">\n",
       "  <thead>\n",
       "    <tr style=\"text-align: right;\">\n",
       "      <th></th>\n",
       "      <th>UserId</th>\n",
       "      <th>ItemId</th>\n",
       "    </tr>\n",
       "  </thead>\n",
       "  <tbody>\n",
       "    <tr>\n",
       "      <th>0</th>\n",
       "      <td>0006246bee</td>\n",
       "      <td>dac5553444</td>\n",
       "    </tr>\n",
       "    <tr>\n",
       "      <th>1</th>\n",
       "      <td>0006246bee</td>\n",
       "      <td>c1ee6829f5</td>\n",
       "    </tr>\n",
       "    <tr>\n",
       "      <th>2</th>\n",
       "      <td>0006246bee</td>\n",
       "      <td>dcba99a1a6</td>\n",
       "    </tr>\n",
       "    <tr>\n",
       "      <th>3</th>\n",
       "      <td>0006246bee</td>\n",
       "      <td>9f7c438b9d</td>\n",
       "    </tr>\n",
       "    <tr>\n",
       "      <th>4</th>\n",
       "      <td>0006246bee</td>\n",
       "      <td>b804592040</td>\n",
       "    </tr>\n",
       "    <tr>\n",
       "      <th>...</th>\n",
       "      <td>...</td>\n",
       "      <td>...</td>\n",
       "    </tr>\n",
       "    <tr>\n",
       "      <th>616195</th>\n",
       "      <td>fffffe98d0</td>\n",
       "      <td>08e9114142</td>\n",
       "    </tr>\n",
       "    <tr>\n",
       "      <th>616196</th>\n",
       "      <td>fffffe98d0</td>\n",
       "      <td>7479705807</td>\n",
       "    </tr>\n",
       "    <tr>\n",
       "      <th>616197</th>\n",
       "      <td>fffffe98d0</td>\n",
       "      <td>4abac6ea8d</td>\n",
       "    </tr>\n",
       "    <tr>\n",
       "      <th>616198</th>\n",
       "      <td>fffffe98d0</td>\n",
       "      <td>476cda8d4e</td>\n",
       "    </tr>\n",
       "    <tr>\n",
       "      <th>616199</th>\n",
       "      <td>fffffe98d0</td>\n",
       "      <td>1a738d1b71</td>\n",
       "    </tr>\n",
       "  </tbody>\n",
       "</table>\n",
       "<p>616200 rows × 2 columns</p>\n",
       "</div>"
      ],
      "text/plain": [
       "            UserId      ItemId\n",
       "0       0006246bee  dac5553444\n",
       "1       0006246bee  c1ee6829f5\n",
       "2       0006246bee  dcba99a1a6\n",
       "3       0006246bee  9f7c438b9d\n",
       "4       0006246bee  b804592040\n",
       "...            ...         ...\n",
       "616195  fffffe98d0  08e9114142\n",
       "616196  fffffe98d0  7479705807\n",
       "616197  fffffe98d0  4abac6ea8d\n",
       "616198  fffffe98d0  476cda8d4e\n",
       "616199  fffffe98d0  1a738d1b71\n",
       "\n",
       "[616200 rows x 2 columns]"
      ]
     },
     "execution_count": 60,
     "metadata": {},
     "output_type": "execute_result"
    }
   ],
   "source": [
    "# Convert user_rankings dictionary to a list of tuples\n",
    "user_item_pairs = [(user, item) for user, items in user_rankings.items() for item in items.keys()]\n",
    "\n",
    "# Create a DataFrame from the list of tuples\n",
    "user_rankings_df = pd.DataFrame(user_item_pairs, columns=['UserId', 'ItemId'])\n",
    "\n",
    "user_rankings_df"
   ]
  },
  {
   "cell_type": "code",
   "execution_count": 61,
   "metadata": {},
   "outputs": [],
   "source": [
    "user_rankings_df.to_csv(\"user_rankings.csv\", index=False)"
   ]
  }
 ],
 "metadata": {
  "colab": {
   "authorship_tag": "ABX9TyPLoe4QklIuWaheVHFpJneK",
   "mount_file_id": "1_hlIRmKFFaSgUU0142p0hhoUeR_zJKsl",
   "provenance": []
  },
  "kernelspec": {
   "display_name": "Python 3",
   "language": "python",
   "name": "python3"
  },
  "language_info": {
   "codemirror_mode": {
    "name": "ipython",
    "version": 3
   },
   "file_extension": ".py",
   "mimetype": "text/x-python",
   "name": "python",
   "nbconvert_exporter": "python",
   "pygments_lexer": "ipython3",
   "version": "3.10.12"
  }
 },
 "nbformat": 4,
 "nbformat_minor": 0
}
